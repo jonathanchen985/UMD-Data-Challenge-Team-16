{
 "cells": [
  {
   "cell_type": "code",
   "execution_count": 1,
   "metadata": {},
   "outputs": [],
   "source": [
    "import pandas as pd\n",
    "import matplotlib.pyplot as plt\n",
    "import seaborn as sns\n",
    "import re"
   ]
  },
  {
   "cell_type": "code",
   "execution_count": 2,
   "metadata": {},
   "outputs": [],
   "source": [
    "def select_data_category(data, category):\n",
    "    cat = data[category].unique()\n",
    "    print('Select from the following categories')\n",
    "    for idx,value in enumerate(cat):\n",
    "        print(f'Enter {idx} to select {value}')\n",
    "    selection = int(input('Selection: '))\n",
    "    return data[data[category]==cat[selection]]"
   ]
  },
  {
   "cell_type": "code",
   "execution_count": 3,
   "metadata": {},
   "outputs": [],
   "source": [
    "# Remove content parentheses from a string\n",
    "def remove_char(test_str):\n",
    "    test_str = str(test_str)\n",
    "    ret = ''\n",
    "    skip1c = 0\n",
    "    skip2c = 0\n",
    "    for i in test_str:\n",
    "        if i == '[':\n",
    "            skip1c += 1\n",
    "        elif i == '(':\n",
    "            skip2c += 1\n",
    "        elif i == ']' and skip1c > 0:\n",
    "            skip1c -= 1\n",
    "        elif i == ')'and skip2c > 0:\n",
    "            skip2c -= 1\n",
    "        elif skip1c == 0 and skip2c == 0:\n",
    "            ret += i\n",
    "    return ret"
   ]
  },
  {
   "cell_type": "code",
   "execution_count": 4,
   "metadata": {},
   "outputs": [],
   "source": [
    "df = pd.read_csv (\"Data_Lv2_USDA_PackagedMeals.csv\")\n",
    "# df = select_data_category(df,'branded_food_category') # Run line to analyze a single food category\n",
    "\n",
    "df['ingredients'] = df['ingredients'].apply(remove_char)\n",
    "\n",
    "all_ing = [] # get a list of all ingredients\n",
    "for ing in df['ingredients']:\n",
    "    lst = ing.split(',')\n",
    "    lst = list(map(str.strip,lst))\n",
    "    all_ing += list(map(lambda _: _.strip('*.'),lst))\n",
    "all_ing = pd.Series(map(str.strip,all_ing))"
   ]
  },
  {
   "cell_type": "code",
   "execution_count": 7,
   "metadata": {},
   "outputs": [
    {
     "data": {
      "text/plain": [
       "salt                    3277\n",
       "water                   2651\n",
       "sugar                   1665\n",
       "citric acid             1204\n",
       "spices                   833\n",
       "soybean oil              792\n",
       "sodium phosphate         685\n",
       "xanthan gum              649\n",
       "dextrose                 621\n",
       "natural flavor           605\n",
       "garlic                   592\n",
       "yeast extract            581\n",
       "maltodextrin             575\n",
       "modified corn starch     558\n",
       "whey                     524\n",
       "nonfat milk              459\n",
       "wheat                    457\n",
       "soy lecithin             456\n",
       "onions                   454\n",
       "sea salt                 452\n",
       "dtype: int64"
      ]
     },
     "execution_count": 7,
     "metadata": {},
     "output_type": "execute_result"
    }
   ],
   "source": [
    "count = all_ing.value_counts()\n",
    "n = 20\n",
    "count[:n] # top n ingredients"
   ]
  },
  {
   "cell_type": "code",
   "execution_count": 8,
   "metadata": {},
   "outputs": [
    {
     "data": {
      "text/plain": [
       "<matplotlib.axes._subplots.AxesSubplot at 0x1a1fb34450>"
      ]
     },
     "execution_count": 8,
     "metadata": {},
     "output_type": "execute_result"
    },
    {
     "data": {
      "image/png": "[encoded data removed]",
      "text/plain": [
       "<Figure size 432x288 with 1 Axes>"
      ]
     },
     "metadata": {
      "needs_background": "light"
     },
     "output_type": "display_data"
    }
   ],
   "source": [
    "# Plot top n ingredients\n",
    "count[:n].plot(kind='bar')"
   ]
  },
  {
   "cell_type": "code",
   "execution_count": null,
   "metadata": {},
   "outputs": [],
   "source": []
  }
 ],
 "metadata": {
  "kernelspec": {
   "display_name": "Python 3",
   "language": "python",
   "name": "python3"
  },
  "language_info": {
   "codemirror_mode": {
    "name": "ipython",
    "version": 3
   },
   "file_extension": ".py",
   "mimetype": "text/x-python",
   "name": "python",
   "nbconvert_exporter": "python",
   "pygments_lexer": "ipython3",
   "version": "3.7.6"
  }
 },
 "nbformat": 4,
 "nbformat_minor": 4
}
