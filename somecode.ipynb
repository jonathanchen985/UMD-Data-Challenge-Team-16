{
 "cells": [
  {
   "cell_type": "code",
   "execution_count": null,
   "metadata": {},
   "outputs": [],
   "source": [
    "def select_data_category(data, category):\n",
    "    cat = data[category].unique()\n",
    "    print('Select from the following categories')\n",
    "    for idx,value in enumerate(cat):\n",
    "        print(f'Enter {idx} to select {value}')\n",
    "    selection = int(input('Selection: '))\n",
    "    return data[data[category]==cat[selection]]\n",
    "\n",
    "meals = select_data_category(df,'branded_food_category')"
   ]
  }
 ],
 "metadata": {
  "kernelspec": {
   "display_name": "Python 3",
   "language": "python",
   "name": "python3"
  },
  "language_info": {
   "codemirror_mode": {
    "name": "ipython",
    "version": 3
   },
   "file_extension": ".py",
   "mimetype": "text/x-python",
   "name": "python",
   "nbconvert_exporter": "python",
   "pygments_lexer": "ipython3",
   "version": "3.7.6"
  }
 },
 "nbformat": 4,
 "nbformat_minor": 4
}
